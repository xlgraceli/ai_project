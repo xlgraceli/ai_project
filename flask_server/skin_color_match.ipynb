{
 "cells": [
  {
   "cell_type": "code",
   "execution_count": 4,
   "metadata": {},
   "outputs": [
    {
     "name": "stdout",
     "output_type": "stream",
     "text": [
      "Skin tone RGB values saved to: skin_tone_colors.json\n"
     ]
    }
   ],
   "source": [
    "###############################Skin color chart to JSON#####################################\n",
    "\n",
    "\n",
    "# import cv2 as cv\n",
    "# import dlib\n",
    "# import imutils\n",
    "# import numpy as np\n",
    "# from sklearn.metrics import euclidean_distances\n",
    "# import os \n",
    "# import json\n",
    "# import pandas as pd \n",
    "\n",
    "# image_directory = r'C:\\Users\\fengz21\\Desktop\\Face_Detect_Project\\Skin_Tone_Library'\n",
    "# json_output_file = 'skin_tone_colors.json'\n",
    "\n",
    "\n",
    "# def calculate_average_rgb(image_path):\n",
    "#     image = cv.imread(image_path)\n",
    "#     if image is None:\n",
    "#         raise ValueError(\"Image not found or path is incorrect\")\n",
    "\n",
    "    \n",
    "#     image_rgb = cv.cvtColor(image, cv.COLOR_BGR2RGB)\n",
    "\n",
    "   \n",
    "#     average_rgb = np.mean(image_rgb, axis=(0, 1)).astype(int)\n",
    "#     return average_rgb.tolist()\n",
    "\n",
    "# def process_images(directory):\n",
    "#     color_data = []\n",
    "#     # List all image files in the directory\n",
    "#     for filename in os.listdir(directory):\n",
    "#         if filename.lower().endswith(('.png', '.jpg', '.jpeg')):\n",
    "#             file_path = os.path.join(directory, filename)\n",
    "#             avg_rgb = calculate_average_rgb(file_path)\n",
    "#             color_data.append({\n",
    "#                 \"name\": filename.split('.')[0],  # Use filename as the color name\n",
    "#                 \"rgb\": avg_rgb\n",
    "#             })\n",
    "#     return color_data\n",
    "\n",
    "# def save_to_json(color_data, json_file):\n",
    "#     with open(json_file, 'w') as file:\n",
    "#         json.dump(color_data, file, indent=4)\n",
    "        \n",
    "\n",
    "# skin_tones = process_images(image_directory)\n",
    "# save_to_json(skin_tones, json_output_file)\n",
    "# print(\"Skin tone RGB values saved to:\", json_output_file)\n",
    "\n",
    "\n",
    "\n"
   ]
  },
  {
   "cell_type": "code",
   "execution_count": 6,
   "metadata": {},
   "outputs": [
    {
     "name": "stdout",
     "output_type": "stream",
     "text": [
      "CSV file has been created: skin_tone_colors.csv\n"
     ]
    }
   ],
   "source": [
    "#########################################JSON to CSV##################################\n",
    "# import pandas as pd \n",
    "\n",
    "# def json_to_csv(json_file, csv_file):\n",
    "#     skin_color_data = pd.read_json(json_file)\n",
    "#     skin_color_data.to_csv(csv_file, index=False)\n",
    "\n",
    "# json_input_file = 'skin_tone_colors.json'\n",
    "# csv_output_file = 'skin_tone_colors.csv'\n",
    "\n",
    "# json_to_csv(json_input_file, csv_output_file)\n",
    "# print(\"CSV file has been created:\", csv_output_file)"
   ]
  },
  {
   "cell_type": "code",
   "execution_count": 1,
   "metadata": {},
   "outputs": [
    {
     "name": "stdout",
     "output_type": "stream",
     "text": [
      "Closest Skin Tone Name: Black_Medium_Dark\n",
      "Closest Skin Tone RGB: [144 110  99]\n"
     ]
    }
   ],
   "source": [
    "############################skin color match###################################\n",
    "\n",
    "import cv2 as cv\n",
    "import numpy as np\n",
    "import pandas as pd\n",
    "from sklearn.metrics import euclidean_distances\n",
    "\n",
    "\n",
    "# Load the image in BGR format\n",
    "def calculate_average_rgb(image_path):\n",
    "    image = cv.imread(image_path)\n",
    "    if image is None:\n",
    "        raise ValueError(\"Image not found\")\n",
    "    image_rgb = cv.cvtColor(image, cv.COLOR_BGR2RGB)\n",
    "    average_rgb = np.mean(image_rgb, axis=(0, 1)).astype(int)\n",
    "    return average_rgb.tolist()\n",
    "\n",
    "\n",
    "# Load the skin tone chart\n",
    "def load_color_chart(csv_file):\n",
    "    skin_tone_chart = pd.read_csv(csv_file)\n",
    "    return skin_tone_chart\n",
    "\n",
    "# Convert skin tone chart RGB columns to a NumPy array, Compute Euclidean distances, Find the minimum distance index\n",
    "def find_closest_skin_tone(sample_rgb, skin_tone_chart):\n",
    "    colors = skin_tone_chart[['rgb']].apply(lambda x: np.array(eval(x['rgb'])), axis=1).tolist()\n",
    "    color_names = skin_tone_chart['name'].tolist()\n",
    "    \n",
    "    distances = euclidean_distances([sample_rgb], colors)\n",
    "    \n",
    "    min_index = np.argmin(distances)\n",
    "    return color_names[min_index], colors[min_index]\n",
    "\n",
    "\n",
    "image_path = r'F:\\VS_Code_Python\\image\\ab.jpg'\n",
    "csv_file = 'skin_tone_colors.csv'\n",
    "color_chart_df = load_color_chart(csv_file)\n",
    "face_avg_rgb = calculate_average_rgb(image_path)\n",
    "\n",
    "\n",
    "closest_name, closest_rgb = find_closest_skin_tone(face_avg_rgb, color_chart_df)\n",
    "print(\"Closest Skin Tone Name:\", closest_name)\n",
    "print(\"Closest Skin Tone RGB:\", closest_rgb)"
   ]
  }
 ],
 "metadata": {
  "kernelspec": {
   "display_name": "Python 3",
   "language": "python",
   "name": "python3"
  },
  "language_info": {
   "codemirror_mode": {
    "name": "ipython",
    "version": 3
   },
   "file_extension": ".py",
   "mimetype": "text/x-python",
   "name": "python",
   "nbconvert_exporter": "python",
   "pygments_lexer": "ipython3",
   "version": "3.9.13"
  }
 },
 "nbformat": 4,
 "nbformat_minor": 2
}
